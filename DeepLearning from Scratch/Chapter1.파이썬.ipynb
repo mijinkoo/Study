{
 "cells": [
  {
   "cell_type": "markdown",
   "metadata": {},
   "source": [
    "## Chapter1 파이썬  \n",
    "### 1. 파이썬\n",
    "* 파이썬은 과학 분야, 특히 기계학습과 데이터 과학 분야에서 널리 쓰임  \n",
    "* 파이썬은 **동적 언어**로 분류되는 프로그래밍 언어  \n",
    "  * 변수의 자료형을 상황에 맞게 자동으로 결정한다는 뜻\n",
    "  \n",
    "#### 1) 슬라이싱\n",
    "* 파이썬 리스트에는 슬라이싱이라는 편리한 기법이 있음  "
   ]
  },
  {
   "cell_type": "code",
   "execution_count": 3,
   "metadata": {
    "scrolled": true
   },
   "outputs": [
    {
     "data": {
      "text/plain": [
       "[1, 2]"
      ]
     },
     "execution_count": 3,
     "metadata": {},
     "output_type": "execute_result"
    }
   ],
   "source": [
    "a=[1, 2, 3, 4, 5]\n",
    "a[0:2]"
   ]
  },
  {
   "cell_type": "code",
   "execution_count": 5,
   "metadata": {},
   "outputs": [
    {
     "data": {
      "text/plain": [
       "[1, 2, 3, 4]"
      ]
     },
     "execution_count": 5,
     "metadata": {},
     "output_type": "execute_result"
    }
   ],
   "source": [
    "a[:-1]"
   ]
  },
  {
   "cell_type": "markdown",
   "metadata": {},
   "source": [
    "#### 2) 클래스\n",
    "* 개발자가 직접 클래스를 정의하여 독자적인 자료형을 만들 수 있음  \n",
    "* 클래스 정의하는 방법  \n",
    "  * 파이썬에서는 메서드의 첫번째 인수로 자신을 나타내는 self를 명시적으로 쓰는 것이 특징  "
   ]
  },
  {
   "cell_type": "code",
   "execution_count": null,
   "metadata": {},
   "outputs": [],
   "source": [
    "class 클래스이름:\n",
    "    def __init__(self, 인수, ...): #__init__은 초기화용 메소드. 생성자라고도 함\n",
    "        ...\n",
    "    def 메서드 이름1(self, 인수, ...):\n",
    "        ...\n",
    "    def 메서드 이름2(self, 인수, ...):\n",
    "        ..."
   ]
  },
  {
   "cell_type": "markdown",
   "metadata": {},
   "source": [
    "### 2. 넘파이\n",
    "* 넘파이는 수치 계산용 라이브러리  \n",
    "* 넘파이는 외부 라이브러리로 import를 해줘야 함  "
   ]
  },
  {
   "cell_type": "code",
   "execution_count": 7,
   "metadata": {},
   "outputs": [],
   "source": [
    "import numpy as np"
   ]
  },
  {
   "cell_type": "code",
   "execution_count": 9,
   "metadata": {},
   "outputs": [
    {
     "name": "stdout",
     "output_type": "stream",
     "text": [
      "[1. 2. 3.]\n"
     ]
    },
    {
     "data": {
      "text/plain": [
       "numpy.ndarray"
      ]
     },
     "execution_count": 9,
     "metadata": {},
     "output_type": "execute_result"
    }
   ],
   "source": [
    "x=np.array([1.0, 2.0, 3.0])\n",
    "print(x)\n",
    "type(x)"
   ]
  },
  {
   "cell_type": "markdown",
   "metadata": {},
   "source": [
    "#### 1) 넘파이의 산술 연산  \n",
    "  * 배열 x와 y의 원소 수가 같을 때 -> 각 원소에 대해서 행해짐  \n",
    "    * 원소별(element-wise) 연산 "
   ]
  },
  {
   "cell_type": "code",
   "execution_count": 12,
   "metadata": {},
   "outputs": [
    {
     "data": {
      "text/plain": [
       "array([3., 6., 9.])"
      ]
     },
     "execution_count": 12,
     "metadata": {},
     "output_type": "execute_result"
    }
   ],
   "source": [
    "x=np.array([1.0, 2.0, 3.0])\n",
    "y=np.array([2.0, 4.0, 6.0])\n",
    "x+y #원소별 연산"
   ]
  },
  {
   "cell_type": "markdown",
   "metadata": {},
   "source": [
    "  * 배열 x와 스칼라의 연산(원소 수가 같지 않을 때)\n",
    "    * 스칼라 값과의 계산이 넘파이 배열의 원소별로 한 번씩 수행됨  \n",
    "    * ->**브로드캐스팅**"
   ]
  },
  {
   "cell_type": "code",
   "execution_count": 13,
   "metadata": {},
   "outputs": [
    {
     "data": {
      "text/plain": [
       "array([0.5, 1. , 1.5])"
      ]
     },
     "execution_count": 13,
     "metadata": {},
     "output_type": "execute_result"
    }
   ],
   "source": [
    "x=np.array([1.0, 2.0, 3.0])\n",
    "x/2.0"
   ]
  },
  {
   "cell_type": "markdown",
   "metadata": {},
   "source": [
    "#### 2) 넘파이의 N차원 배열\n",
    "* 행렬을 포함한 N차원 배열에서 그 배열의 '각 차원의 크기(원소 수)'를 배열의 '형상'이라고 함  \n",
    "* 행렬의 형상은 shape으로, 행렬에 담긴 원소의 자료형은 dtype으로 알아낼 수 있음  "
   ]
  },
  {
   "cell_type": "code",
   "execution_count": 15,
   "metadata": {},
   "outputs": [
    {
     "data": {
      "text/plain": [
       "(2, 2)"
      ]
     },
     "execution_count": 15,
     "metadata": {},
     "output_type": "execute_result"
    }
   ],
   "source": [
    "A=np.array([[1, 2], [3, 4]])\n",
    "B=np.array([[3, 0], [0, 6]])\n",
    "A.shape"
   ]
  },
  {
   "cell_type": "code",
   "execution_count": 16,
   "metadata": {},
   "outputs": [
    {
     "data": {
      "text/plain": [
       "dtype('int32')"
      ]
     },
     "execution_count": 16,
     "metadata": {},
     "output_type": "execute_result"
    }
   ],
   "source": [
    "A.dtype"
   ]
  },
  {
   "cell_type": "code",
   "execution_count": 17,
   "metadata": {},
   "outputs": [
    {
     "data": {
      "text/plain": [
       "array([[ 4,  2],\n",
       "       [ 3, 10]])"
      ]
     },
     "execution_count": 17,
     "metadata": {},
     "output_type": "execute_result"
    }
   ],
   "source": [
    "A+B"
   ]
  },
  {
   "cell_type": "code",
   "execution_count": 18,
   "metadata": {},
   "outputs": [
    {
     "data": {
      "text/plain": [
       "array([[ 3,  0],\n",
       "       [ 0, 24]])"
      ]
     },
     "execution_count": 18,
     "metadata": {},
     "output_type": "execute_result"
    }
   ],
   "source": [
    "A*B"
   ]
  },
  {
   "cell_type": "code",
   "execution_count": 23,
   "metadata": {},
   "outputs": [
    {
     "data": {
      "text/plain": [
       "array([[10, 20],\n",
       "       [30, 40]])"
      ]
     },
     "execution_count": 23,
     "metadata": {},
     "output_type": "execute_result"
    }
   ],
   "source": [
    "A*10"
   ]
  },
  {
   "cell_type": "markdown",
   "metadata": {},
   "source": [
    "**+ 더 알아보기**\n",
    "수학에서는 1차원 배열은 **벡터(vector)**, 2차원 배열은 **행렬(matrix)**, 또 벡터와 행렬을 일반화한 것을 **텐서(tensor)** 라고 한다. 구글의 딥러닝 프레임워크인 텐서플로의 이름이 여기서 유래했다."
   ]
  },
  {
   "cell_type": "markdown",
   "metadata": {},
   "source": [
    "#### 3) 브로드캐스트\n",
    "* 행렬에 스칼라 값을 연산할 때, 스칼라 값이 행렬의 형상만큼 확대된 후 연산이 이루어짐  "
   ]
  },
  {
   "cell_type": "code",
   "execution_count": 21,
   "metadata": {},
   "outputs": [
    {
     "data": {
      "text/plain": [
       "array([[10, 40],\n",
       "       [30, 80]])"
      ]
     },
     "execution_count": 21,
     "metadata": {},
     "output_type": "execute_result"
    }
   ],
   "source": [
    "A=np.array([[1, 2], [3, 4]])\n",
    "B=np.array([10, 20])\n",
    "A*B"
   ]
  },
  {
   "cell_type": "markdown",
   "metadata": {},
   "source": [
    "### 3. 맷플롯립(matplotlib)  \n",
    "* matplotlib은 그래프를 그려주는 라이브러리  \n",
    "\n",
    "#### 그래프 그리기  \n",
    "* 그래프를 그리려면 matplotlib의 pyplot 모듈을 이욯  "
   ]
  },
  {
   "cell_type": "code",
   "execution_count": 24,
   "metadata": {},
   "outputs": [
    {
     "data": {
      "image/png": "[encoded data removed]",
      "text/plain": [
       "<Figure size 432x288 with 1 Axes>"
      ]
     },
     "metadata": {
      "needs_background": "light"
     },
     "output_type": "display_data"
    }
   ],
   "source": [
    "import numpy as np\n",
    "import matplotlib.pyplot as plt\n",
    "\n",
    "#데이터 준비\n",
    "x=np.arange(0, 6, 0.1)\n",
    "y=np.sin(x)\n",
    "\n",
    "#그래프 그리기\n",
    "plt.plot(x, y)\n",
    "plt.show()"
   ]
  },
  {
   "cell_type": "code",
   "execution_count": 26,
   "metadata": {},
   "outputs": [
    {
     "data": {
      "image/png": "[encoded data removed]",
      "text/plain": [
       "<Figure size 432x288 with 1 Axes>"
      ]
     },
     "metadata": {
      "needs_background": "light"
     },
     "output_type": "display_data"
    }
   ],
   "source": [
    "import numpy as np\n",
    "import matplotlib.pyplot as plt\n",
    "\n",
    "#데이터 준비\n",
    "x=np.arange(0, 6, 0.1)\n",
    "y1=np.sin(x)\n",
    "y2=np.cos(x)\n",
    "\n",
    "#그래프 그리기\n",
    "plt.plot(x, y1, label=\"sin\")\n",
    "plt.plot(x, y2, linestyle=\"--\", label=\"cos\")\n",
    "plt.xlabel(\"x\")\n",
    "plt.xlabel(\"y\")\n",
    "plt.title('sin & cos')\n",
    "plt.legend()\n",
    "plt.show()"
   ]
  }
 ],
 "metadata": {
  "kernelspec": {
   "display_name": "Python 3",
   "language": "python",
   "name": "python3"
  },
  "language_info": {
   "codemirror_mode": {
    "name": "ipython",
    "version": 3
   },
   "file_extension": ".py",
   "mimetype": "text/x-python",
   "name": "python",
   "nbconvert_exporter": "python",
   "pygments_lexer": "ipython3",
   "version": "3.8.5"
  }
 },
 "nbformat": 4,
 "nbformat_minor": 4
}
