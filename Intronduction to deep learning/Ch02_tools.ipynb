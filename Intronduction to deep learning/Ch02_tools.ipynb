{
  "nbformat": 4,
  "nbformat_minor": 0,
  "metadata": {
    "colab": {
      "name": "Ch02_tools.ipynb",
      "provenance": [],
      "collapsed_sections": [
        "6Mjc0s1nXGgx"
      ]
    },
    "kernelspec": {
      "name": "python3",
      "display_name": "Python 3"
    },
    "language_info": {
      "name": "python"
    }
  },
  "cells": [
    {
      "cell_type": "markdown",
      "metadata": {
        "id": "uoDqAM8mVaeu"
      },
      "source": [
        "## 02 최소한의 도구로 딥러닝을 시작합니다\n",
        "***"
      ]
    },
    {
      "cell_type": "markdown",
      "metadata": {
        "id": "3VN-gwNoaWKT"
      },
      "source": [
        "### 1. 구글 코랩\n",
        "구글 코랩은 구글이 제공하는 주피터 노트북(jupyter notebook)을 말한다. 딥러닝 분야는 연산 비용이 높아 컴퓨터 성능이 중요한데 코랩을 사용하면 구글 클라우드(Google Cloud)의 가상 서버를 마음껏 활용할 수 있다.  \n",
        "* **코랩**은 구글에서 교육과 과학 연구를 목적으로 개발한 도구이다.\n",
        "* 코랩은 웹 브라우저(Web Browser)를 통해 제어하고 실제 파이썬 코드 실행은 구글 클라우드의 가상 서버에서 이루어진다.  \n",
        "* 코랩에서 만든 파일인 노트북은 구글 드라이브(Google Drive)에 저장하고 불러올 수 있다.  "
      ]
    },
    {
      "cell_type": "markdown",
      "metadata": {
        "id": "IhwPK8gfaSzz"
      },
      "source": [
        "### 2. 넘파이\n",
        "넘파이(NumPy)는 파이썬의 핵심 과학 패키지 중 하나이다. 많은 머신러닝과 딥러닝 패키지가 넘파이를 기반으로 구현되었고 넘파이 인터페이스를 계승하고 있다.  "
      ]
    },
    {
      "cell_type": "markdown",
      "metadata": {
        "id": "6Mjc0s1nXGgx"
      },
      "source": [
        "#### 파이썬 리스트 복습하기\n",
        "* 리스트의 인덱스는 0부터 시작한다.  \n",
        "* 리스트의 요소로 다른 리스트를 포함시켜도 된다.  "
      ]
    },
    {
      "cell_type": "code",
      "metadata": {
        "colab": {
          "base_uri": "https://localhost:8080/"
        },
        "id": "OHJKemr4XNKm",
        "outputId": "7c704f48-000e-4550-b73c-9cb559d48b42"
      },
      "source": [
        "my_List = [10, 'Hello list', 20]\n",
        "print(my_List[1])"
      ],
      "execution_count": 1,
      "outputs": [
        {
          "output_type": "stream",
          "text": [
            "Hello list\n"
          ],
          "name": "stdout"
        }
      ]
    },
    {
      "cell_type": "code",
      "metadata": {
        "colab": {
          "base_uri": "https://localhost:8080/"
        },
        "id": "6GRHlakXXogd",
        "outputId": "1294d620-ec21-422b-dace-6f5d36869e6e"
      },
      "source": [
        "my_List_2 = [[10, 20, 30], [40, 50, 60]]\n",
        "# 이렇게 중첩된 배열을 2차원 배열이라고 한다.\n",
        "# 이 리스트의 크기는 '2 X 3 크기'\n",
        "# 2개의 행과 3개의 열\n",
        "\n",
        "print(my_List_2[1][1])"
      ],
      "execution_count": 3,
      "outputs": [
        {
          "output_type": "stream",
          "text": [
            "50\n"
          ],
          "name": "stdout"
        }
      ]
    },
    {
      "cell_type": "markdown",
      "metadata": {
        "id": "VAJYx8nTYFcI"
      },
      "source": [
        "#### 넘파이 준비하기\n",
        "다차원 배열은 파이썬 리스트로 만들어 사용해도 되지만 파이썬 리스트로 만든 배열은 배열의 크기가 커질수록 성능이 떨어진다는 단점이 있다. 이런 경우에 넘파이를 사용한다. 넘파이는 저수준 언어로 다차원 배열을 구현했기 대문에 배열의 크기가 커져도 높은 성능을 보장한다.  "
      ]
    },
    {
      "cell_type": "markdown",
      "metadata": {
        "id": "dKXftV8bYrkW"
      },
      "source": [
        "##### 1) 코랩에서 넘파이 임포트하고 버전 확인하기\n",
        "파이썬의 import 명령으로 넘파이를 임포트할 때 as 키워드를 이용하여 np라는 이름으로 별칭을 만든다."
      ]
    },
    {
      "cell_type": "code",
      "metadata": {
        "colab": {
          "base_uri": "https://localhost:8080/"
        },
        "id": "hiIpABu-YtnV",
        "outputId": "e466d3b8-5779-449a-b8cd-feb5d1a0d6d5"
      },
      "source": [
        "import numpy as np\n",
        "print(np.__version__)"
      ],
      "execution_count": 4,
      "outputs": [
        {
          "output_type": "stream",
          "text": [
            "1.19.5\n"
          ],
          "name": "stdout"
        }
      ]
    },
    {
      "cell_type": "markdown",
      "metadata": {
        "id": "cHnb0LvbY2SE"
      },
      "source": [
        "### 넘파이로 배열 만들기\n",
        "넘파이는 파이썬의 리스트처럼 숫자와 문자열을 함께 담을 수 없다. 만약 문자 데이터가 있어도 결국은 숫자로 바꿔서 입력해야 한다.  "
      ]
    },
    {
      "cell_type": "markdown",
      "metadata": {
        "id": "Zz_n-EK8ZFyU"
      },
      "source": [
        "##### 1) array() 함수로 2차원 배열 만들기"
      ]
    },
    {
      "cell_type": "code",
      "metadata": {
        "colab": {
          "base_uri": "https://localhost:8080/"
        },
        "id": "Gj0Bx0tQZKZn",
        "outputId": "d9fbda85-3a9b-4d2c-86a5-4a113596217a"
      },
      "source": [
        "my_arr = np.array([[10, 20, 30], [40, 50, 60]])\n",
        "print(my_arr)"
      ],
      "execution_count": 5,
      "outputs": [
        {
          "output_type": "stream",
          "text": [
            "[[10 20 30]\n",
            " [40 50 60]]\n"
          ],
          "name": "stdout"
        }
      ]
    },
    {
      "cell_type": "markdown",
      "metadata": {
        "id": "91HmuPrWZVPU"
      },
      "source": [
        "##### 2) type() 함수로 넘파이 배열인지 확인하기\n",
        "array() 함수는 파이썬 리스트를 입력 받아 넘파이 배열을 만든다. 출력된 결과는 파이썬 리스트와 형태가 비슷하다. 파이썬 리스트가 아니라 넘파이 배열임을 확인해 보겠다.  "
      ]
    },
    {
      "cell_type": "code",
      "metadata": {
        "colab": {
          "base_uri": "https://localhost:8080/"
        },
        "id": "bb7OTAN1ZjXc",
        "outputId": "0258dc4a-1de1-409d-fc9c-700376236e74"
      },
      "source": [
        "type(my_arr)"
      ],
      "execution_count": 6,
      "outputs": [
        {
          "output_type": "execute_result",
          "data": {
            "text/plain": [
              "numpy.ndarray"
            ]
          },
          "metadata": {
            "tags": []
          },
          "execution_count": 6
        }
      ]
    },
    {
      "cell_type": "markdown",
      "metadata": {
        "id": "V8S8VHQqZoWM"
      },
      "source": [
        "##### 3) 넘파이 배열에서 요소 선택하기\n",
        "넘파이 배열의 요소를 선택하는 방법은 파이썬 리스트에서 요소를 선택하는 방법과 동일하다. 인덱스는 0부터 시작한다."
      ]
    },
    {
      "cell_type": "code",
      "metadata": {
        "colab": {
          "base_uri": "https://localhost:8080/"
        },
        "id": "LpIzzKc1Zxlt",
        "outputId": "a464cb9d-93c3-4362-eaa3-17ff20a12168"
      },
      "source": [
        "my_arr[0][2]"
      ],
      "execution_count": 7,
      "outputs": [
        {
          "output_type": "execute_result",
          "data": {
            "text/plain": [
              "30"
            ]
          },
          "metadata": {
            "tags": []
          },
          "execution_count": 7
        }
      ]
    },
    {
      "cell_type": "markdown",
      "metadata": {
        "id": "yCNjPO4sZ3rM"
      },
      "source": [
        "##### 4) 넘파이 내장 함수 사용하기\n",
        "파이썬 리스트의 요소를 모두 더하려면 for문을 만들어야 한다. sum() 함수는 배열의 요소를 모두 더해 주는 함수이다. for문을 사용하는 것보다 실행 속도가 매우 빠르고 코드도 간결하다."
      ]
    },
    {
      "cell_type": "code",
      "metadata": {
        "colab": {
          "base_uri": "https://localhost:8080/"
        },
        "id": "-DDtWt1xaA79",
        "outputId": "e773c231-d4bc-4a80-f789-5546571b39fc"
      },
      "source": [
        "np.sum(my_arr)"
      ],
      "execution_count": 8,
      "outputs": [
        {
          "output_type": "execute_result",
          "data": {
            "text/plain": [
              "210"
            ]
          },
          "metadata": {
            "tags": []
          },
          "execution_count": 8
        }
      ]
    },
    {
      "cell_type": "markdown",
      "metadata": {
        "id": "Dwqwoq_FaZAL"
      },
      "source": [
        "### 3. 맷플롯립으로 그래프 그리기\n",
        "맷플롯립(Matplotlib)은 파이썬 과학 생태계의 표준 그래프 패키지이다. 맷플롯립도 코랩에 포함되어 있으므로 바로 사용할 수 있다. 맷플롯립도 별칭 plt를 사용한다.  "
      ]
    },
    {
      "cell_type": "code",
      "metadata": {
        "id": "Jn9mnpDdalVE"
      },
      "source": [
        "import matplotlib.pyplot as plt"
      ],
      "execution_count": 9,
      "outputs": []
    },
    {
      "cell_type": "markdown",
      "metadata": {
        "id": "0mi-OJCQar6D"
      },
      "source": [
        "##### 1) 선 그래프 그리기\n",
        "선 그래프를 그리려면 x축과 y축의 값을 맷플롯립 plot() 함수에 전달해야 한다. 그런 다음 show() 함수를 이용하여 화면에 그래프를 출력하면 된다."
      ]
    },
    {
      "cell_type": "code",
      "metadata": {
        "colab": {
          "base_uri": "https://localhost:8080/",
          "height": 282
        },
        "id": "UK50ZXnma5H0",
        "outputId": "d2ae8a6d-9024-4244-d374-30f6c333c1bc"
      },
      "source": [
        "plt.plot([1, 2, 3, 4, 5], [1, 4, 9, 16, 25])\n",
        "plt.show"
      ],
      "execution_count": 10,
      "outputs": [
        {
          "output_type": "execute_result",
          "data": {
            "text/plain": [
              "<function matplotlib.pyplot.show>"
            ]
          },
          "metadata": {
            "tags": []
          },
          "execution_count": 10
        },
        {
          "output_type": "display_data",
          "data": {
            "image/png": "[encoded data removed]",
            "text/plain": [
              "<Figure size 432x288 with 1 Axes>"
            ]
          },
          "metadata": {
            "tags": [],
            "needs_background": "light"
          }
        }
      ]
    },
    {
      "cell_type": "markdown",
      "metadata": {
        "id": "QyKzqGbTbB-c"
      },
      "source": [
        "##### 2) 산점도 그리기\n",
        "자주 사용하는 또 하나의 그래프는 산점도(scatter plot)이다. 산점도는 데이터의 x축, y축의 값을 이용하여 점으로 그래프를 그린 것이다. 이때 show() 함수를 사용하지 않아도 맷플롯립이 자동으로 그래프를 그려주지만 함수를 사용하면 조금 더 깔끔하고 보기 좋은 그래프가 그려진다."
      ]
    },
    {
      "cell_type": "code",
      "metadata": {
        "colab": {
          "base_uri": "https://localhost:8080/",
          "height": 282
        },
        "id": "AGpcgORqbTCm",
        "outputId": "71d63110-51c7-43e1-fe20-ce1f6f9054bf"
      },
      "source": [
        "plt.scatter([1, 2, 3, 4, 5], [1, 4, 9, 16, 25])"
      ],
      "execution_count": 11,
      "outputs": [
        {
          "output_type": "execute_result",
          "data": {
            "text/plain": [
              "<matplotlib.collections.PathCollection at 0x7f01ff90b250>"
            ]
          },
          "metadata": {
            "tags": []
          },
          "execution_count": 11
        },
        {
          "output_type": "display_data",
          "data": {
            "image/png": "[encoded data removed]",
            "text/plain": [
              "<Figure size 432x288 with 1 Axes>"
            ]
          },
          "metadata": {
            "tags": [],
            "needs_background": "light"
          }
        }
      ]
    },
    {
      "cell_type": "code",
      "metadata": {
        "colab": {
          "base_uri": "https://localhost:8080/",
          "height": 265
        },
        "id": "Nww1Dueybalb",
        "outputId": "257b3efc-0216-4a3b-f96d-4c1a63adcd02"
      },
      "source": [
        "plt.scatter([1, 2, 3, 4, 5], [1, 4, 9, 16, 25])\n",
        "plt.show()"
      ],
      "execution_count": 12,
      "outputs": [
        {
          "output_type": "display_data",
          "data": {
            "image/png": "[encoded data removed]",
            "text/plain": [
              "<Figure size 432x288 with 1 Axes>"
            ]
          },
          "metadata": {
            "tags": [],
            "needs_background": "light"
          }
        }
      ]
    },
    {
      "cell_type": "markdown",
      "metadata": {
        "id": "dcXPxnj4beng"
      },
      "source": [
        "##### 3) 넘파이 배열로 산점도 그리기\n",
        "넘파이의 random.randn() 함수를 사용하여 표준 정규 분포를 따르는 난수(random number)를 만들고 그 값을 이용하여 산점도를 그린다.  \n",
        "딥러닝에서도 데이터 시각화는 필수이기 때문에 맷플롯립을 자주 사용할 것이다."
      ]
    },
    {
      "cell_type": "code",
      "metadata": {
        "colab": {
          "base_uri": "https://localhost:8080/",
          "height": 265
        },
        "id": "I49laPoKbwA7",
        "outputId": "23b3e254-9b58-43e8-99ca-14ea737624cd"
      },
      "source": [
        "x = np.random.randn(1000)\n",
        "y = np.random.randn(1000)\n",
        "plt.scatter(x, y)\n",
        "plt.show()"
      ],
      "execution_count": 13,
      "outputs": [
        {
          "output_type": "display_data",
          "data": {
            "image/png": "[encoded data removed]",
            "text/plain": [
              "<Figure size 432x288 with 1 Axes>"
            ]
          },
          "metadata": {
            "tags": [],
            "needs_background": "light"
          }
        }
      ]
    }
  ]
}
