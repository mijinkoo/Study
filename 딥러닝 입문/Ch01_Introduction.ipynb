{
 "cells": [
  {
   "cell_type": "markdown",
   "metadata": {},
   "source": [
    "01 딥러닝을 소개합니다\n",
    "======"
   ]
  },
  {
   "cell_type": "markdown",
   "metadata": {},
   "source": [
    "## 1. 인공지능\n",
    "* 정말로 사람 같은 인공지능은 **강 인공지능(strong AI)**라고 한다.  \n",
    "* 지금까지 발전을 거듭하고 있는 인공지능 기술은 모두 **약 인공지능(weak AI)**이다.  \n",
    "* 머신러닝, 딥러닝은 모두 약 인공지능에 포함된다.  \n",
    "* 머신러닝과 딥러닝은 약 인공지능에 포함되는 기술이고, 딥러닝은 머신러닝에 포함되는 기술이다.  \n",
    "* 머신러닝은 알고리즘의 종류에 따라 세부적으로 나눌 수 있는데, 그중에 인공신경망 알고리즘을 사용하여 만든 것이 **딥러닝**이다.  "
   ]
  },
  {
   "cell_type": "markdown",
   "metadata": {},
   "source": [
    "## 2. 머신러닝\n",
    "* 머신러닝(Machine Learning)은 '기계 학습'이다.  \n",
    "\n",
    "#### 머신러닝은 스스로 규칙을 수정한다  \n",
    "* 머신러닝과 딥러닝에서 말하는 **학습**은 데이터의 규칙을 컴퓨터 스스로 찾아내는 것을 말한다.\n",
    "\n",
    "### 머신러닝의 학습 방식  \n",
    "머신러닝은 학습 방식에 따라\n",
    "  * 지도 학습(supervised learning)  \n",
    "  * 비지도 학습(unsupervised learning)  \n",
    "  * 강화 학습(reinforced learning) 으로 분류한다.  \n",
    "\n",
    "#### 지도 학습은 입력과 타깃으로 모델을 훈련시킨다  \n",
    "* 지도 학습은 입력과 타깃으로 모델을 훈련시킨다.  \n",
    "* 모델을 훈련시키기 위해 사용하는 데이터를 통틀어 **훈련 데이터(training data)**라고 한다.  \n",
    "* 훈련 데이터는 '입력'과 '타깃'으로 구성된다.  \n",
    "* 입력: 모델이 풀어야 할 일종의 문제와 같은 것  \n",
    "* 타깃: 모델이 맞춰야 할 정답과 같은 것  \n",
    "* **모델**: 학습을 통해 만들어진 프로그램  \n",
    "* 모델은 새로운 입력에 대한 예측을 만든다.  \n",
    "* 지도 학습은 기존의 데이터를 통해 모델을 학습시키고 학습시킨 모델로 새로운 입력에 대한 예측을 할 수 있으므로 내일의 날씨를 예측하거나, 스팸 이메일을 분류하는 등의 일을 해결하는 데 사용된다.  \n",
    "\n",
    "#### 비지도 학습은 타깃이 없는 데이터를 사용한다\n",
    "* 비지도 학습은 타깃이 없는 훈련 데이터를 사용한다.  \n",
    "* 비지도 학습의 대표적인 예로 군집(clustering)이 있다.\n",
    "* 비지도 학습은 훈련 데이터에 타깃이 없으므로 모델의 훈련 결과를 평가하기 어렵다는 특징이 있다.  \n",
    "\n",
    "#### 강화 학습은 주어진 환경으로부터 피드백을 받아 훈련한다\n",
    "* 강화 학습은 머신러닝 알고리즘으로 에이전트를 훈련시킨다.  \n",
    "* 에이전트는 특정 환경에 최적화된 행도을 수행하고 수행에 대한 '보상'과 '현재 상태'를 받는다.\n",
    "* 여기서 에이전트의 목표는 '최대한 보상을 많이 받는 것'이다.\n",
    "* 강화 학습의 대표적인 알고리즘으로 Q-learning, SARSA, DQN(Deep Q Network) 등이 있다.  \n",
    "  * 강화 학습의 예로 딥마인드의 알파고가 있다.\n",
    "\n",
    "### 규칙이란 가중치와 절편을 말한다\n",
    "* 위에서 머신러닝은 스스로 규칙을 찾는다고 했다.  \n",
    "* 대부분의 머신러닝 알고리즘은 훈련 데이터와 규칙의 관계를 식으로 표현할 수 있다.  "
   ]
  },
  {
   "attachments": {
    "immg1.png": {
     "image/png": "[encoded data removed]"
    }
   },
   "cell_type": "markdown",
   "metadata": {},
   "source": [
    "![immg1.png](attachment:immg1.png)\n",
    "* x는 입력이고 y는 타깃이다.  \n",
    "* 1.5와 0.1이 규칙이다. 1.5와 0.1을 각각 가중치, 절편이라고 한다.  "
   ]
  },
  {
   "cell_type": "markdown",
   "metadata": {},
   "source": [
    "### 모델은 머신러닝의 수학적 표현이다\n",
    "* 위에서 만든 수학식이 바로 모델이다.  \n",
    "* **모델**은 '학습데이터로 학습된 머신러닝 알고리즘'을 말한다.  \n",
    "* 가중치와 절편을 합쳐 **모델 파라미터**(model parameter)라고 부른다.  \n",
    "\n",
    "### 손실 함수로 모델의 규칙을 수정한다\n",
    "* 모델의 규칙(가중치, 절편)을 수정하는 기준이 되는 함수를 **손실함수(loss function)**라고 한다."
   ]
  }
 ],
 "metadata": {
  "kernelspec": {
   "display_name": "Python 3",
   "language": "python",
   "name": "python3"
  },
  "language_info": {
   "codemirror_mode": {
    "name": "ipython",
    "version": 3
   },
   "file_extension": ".py",
   "mimetype": "text/x-python",
   "name": "python",
   "nbconvert_exporter": "python",
   "pygments_lexer": "ipython3",
   "version": "3.8.5"
  }
 },
 "nbformat": 4,
 "nbformat_minor": 4
}
